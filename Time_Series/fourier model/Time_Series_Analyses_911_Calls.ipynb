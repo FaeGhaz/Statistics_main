{
 "cells": [
  {
   "cell_type": "code",
   "execution_count": 44,
   "id": "4d2a5857",
   "metadata": {},
   "outputs": [],
   "source": [
    "from scipy import fft\n",
    "from scipy import signal as sig\n",
    "import matplotlib.pyplot as plt\n",
    "import numpy as np\n",
    "import pandas as pd\n",
    "import math\n",
    "\n",
    "from pandas.plotting import register_matplotlib_converters\n",
    "register_matplotlib_converters()\n",
    "\n",
    "import warnings\n",
    "warnings.simplefilter('ignore')\n",
    "\n",
    "from scipy import fft\n",
    "from scipy import signal as sig\n",
    "from pandas.plotting import register_matplotlib_converters\n",
    "register_matplotlib_converters()\n",
    "\n",
    "from sklearn.linear_model import LinearRegression\n",
    "from pandas.plotting import register_matplotlib_converters\n",
    "register_matplotlib_converters()\n"
   ]
  },
  {
   "cell_type": "markdown",
   "id": "1c360d91",
   "metadata": {},
   "source": [
    "For this capstone project we will be analyzing some 911 call data from Kaggle. The data contains the following fields:\n",
    "\n",
    "lat : String variable, Latitude\n",
    "\n",
    "lng: String variable, Longitude\n",
    "\n",
    "desc: String variable, Description of the Emergency Call\n",
    "\n",
    "zip: String variable, Zipcode\n",
    "\n",
    "title: String variable, Title\n",
    "\n",
    "timeStamp: String variable, YYYY-MM-DD HH:MM:SS\n",
    "\n",
    "twp: String variable, Township\n",
    "\n",
    "addr: String variable, Address\n",
    "\n",
    "e: String variable, Dummy variable (always 1)\n",
    "\n",
    "Data preparation\n",
    "First, let’s import and prep the call data. The raw data is from Kaggle."
   ]
  },
  {
   "cell_type": "code",
   "execution_count": 2,
   "id": "183ba81c",
   "metadata": {},
   "outputs": [],
   "source": [
    "#Import numpy and pandas\n",
    "import numpy as np\n",
    "import pandas as pd\n",
    "# Import visualization libraries and set %matplotlib inline.\n",
    "%matplotlib inline\n",
    "import matplotlib.pyplot as plt\n",
    "import seaborn as sns\n",
    "sns.set_style('whitegrid')"
   ]
  },
  {
   "cell_type": "code",
   "execution_count": 3,
   "id": "69dbe24c",
   "metadata": {},
   "outputs": [],
   "source": [
    "df= pd.read_csv('911.csv')"
   ]
  },
  {
   "cell_type": "code",
   "execution_count": 4,
   "id": "8a50fa55",
   "metadata": {},
   "outputs": [
    {
     "name": "stdout",
     "output_type": "stream",
     "text": [
      "<class 'pandas.core.frame.DataFrame'>\n",
      "RangeIndex: 99492 entries, 0 to 99491\n",
      "Data columns (total 9 columns):\n",
      " #   Column     Non-Null Count  Dtype  \n",
      "---  ------     --------------  -----  \n",
      " 0   lat        99492 non-null  float64\n",
      " 1   lng        99492 non-null  float64\n",
      " 2   desc       99492 non-null  object \n",
      " 3   zip        86637 non-null  float64\n",
      " 4   title      99492 non-null  object \n",
      " 5   timeStamp  99492 non-null  object \n",
      " 6   twp        99449 non-null  object \n",
      " 7   addr       98973 non-null  object \n",
      " 8   e          99492 non-null  int64  \n",
      "dtypes: float64(3), int64(1), object(5)\n",
      "memory usage: 6.8+ MB\n"
     ]
    }
   ],
   "source": [
    "#Check the info() of the df\n",
    "df.info()"
   ]
  },
  {
   "cell_type": "code",
   "execution_count": 44,
   "id": "ea738a85",
   "metadata": {},
   "outputs": [
    {
     "data": {
      "text/html": [
       "<div>\n",
       "<style scoped>\n",
       "    .dataframe tbody tr th:only-of-type {\n",
       "        vertical-align: middle;\n",
       "    }\n",
       "\n",
       "    .dataframe tbody tr th {\n",
       "        vertical-align: top;\n",
       "    }\n",
       "\n",
       "    .dataframe thead th {\n",
       "        text-align: right;\n",
       "    }\n",
       "</style>\n",
       "<table border=\"1\" class=\"dataframe\">\n",
       "  <thead>\n",
       "    <tr style=\"text-align: right;\">\n",
       "      <th></th>\n",
       "      <th>lat</th>\n",
       "      <th>lng</th>\n",
       "      <th>desc</th>\n",
       "      <th>zip</th>\n",
       "      <th>title</th>\n",
       "      <th>timestamp</th>\n",
       "      <th>twp</th>\n",
       "      <th>addr</th>\n",
       "      <th>e</th>\n",
       "      <th>timestamp_trunc</th>\n",
       "      <th>N</th>\n",
       "    </tr>\n",
       "  </thead>\n",
       "  <tbody>\n",
       "    <tr>\n",
       "      <th>0</th>\n",
       "      <td>40.297876</td>\n",
       "      <td>-75.581294</td>\n",
       "      <td>REINDEER CT &amp; DEAD END;  NEW HANOVER; Station ...</td>\n",
       "      <td>19525.0</td>\n",
       "      <td>EMS: BACK PAINS/INJURY</td>\n",
       "      <td>2015-12-10 17:40:00</td>\n",
       "      <td>NEW HANOVER</td>\n",
       "      <td>REINDEER CT &amp; DEAD END</td>\n",
       "      <td>1</td>\n",
       "      <td>2015-12-10 17:00:00</td>\n",
       "      <td>1</td>\n",
       "    </tr>\n",
       "    <tr>\n",
       "      <th>1</th>\n",
       "      <td>40.258061</td>\n",
       "      <td>-75.264680</td>\n",
       "      <td>BRIAR PATH &amp; WHITEMARSH LN;  HATFIELD TOWNSHIP...</td>\n",
       "      <td>19446.0</td>\n",
       "      <td>EMS: DIABETIC EMERGENCY</td>\n",
       "      <td>2015-12-10 17:40:00</td>\n",
       "      <td>HATFIELD TOWNSHIP</td>\n",
       "      <td>BRIAR PATH &amp; WHITEMARSH LN</td>\n",
       "      <td>1</td>\n",
       "      <td>2015-12-10 17:00:00</td>\n",
       "      <td>1</td>\n",
       "    </tr>\n",
       "    <tr>\n",
       "      <th>2</th>\n",
       "      <td>40.121182</td>\n",
       "      <td>-75.351975</td>\n",
       "      <td>HAWS AVE; NORRISTOWN; 2015-12-10 @ 14:39:21-St...</td>\n",
       "      <td>19401.0</td>\n",
       "      <td>Fire: GAS-ODOR/LEAK</td>\n",
       "      <td>2015-12-10 17:40:00</td>\n",
       "      <td>NORRISTOWN</td>\n",
       "      <td>HAWS AVE</td>\n",
       "      <td>1</td>\n",
       "      <td>2015-12-10 17:00:00</td>\n",
       "      <td>1</td>\n",
       "    </tr>\n",
       "    <tr>\n",
       "      <th>3</th>\n",
       "      <td>40.116153</td>\n",
       "      <td>-75.343513</td>\n",
       "      <td>AIRY ST &amp; SWEDE ST;  NORRISTOWN; Station 308A;...</td>\n",
       "      <td>19401.0</td>\n",
       "      <td>EMS: CARDIAC EMERGENCY</td>\n",
       "      <td>2015-12-10 17:40:01</td>\n",
       "      <td>NORRISTOWN</td>\n",
       "      <td>AIRY ST &amp; SWEDE ST</td>\n",
       "      <td>1</td>\n",
       "      <td>2015-12-10 17:00:00</td>\n",
       "      <td>1</td>\n",
       "    </tr>\n",
       "    <tr>\n",
       "      <th>4</th>\n",
       "      <td>40.251492</td>\n",
       "      <td>-75.603350</td>\n",
       "      <td>CHERRYWOOD CT &amp; DEAD END;  LOWER POTTSGROVE; S...</td>\n",
       "      <td>NaN</td>\n",
       "      <td>EMS: DIZZINESS</td>\n",
       "      <td>2015-12-10 17:40:01</td>\n",
       "      <td>LOWER POTTSGROVE</td>\n",
       "      <td>CHERRYWOOD CT &amp; DEAD END</td>\n",
       "      <td>1</td>\n",
       "      <td>2015-12-10 17:00:00</td>\n",
       "      <td>1</td>\n",
       "    </tr>\n",
       "  </tbody>\n",
       "</table>\n",
       "</div>"
      ],
      "text/plain": [
       "         lat        lng                                               desc  \\\n",
       "0  40.297876 -75.581294  REINDEER CT & DEAD END;  NEW HANOVER; Station ...   \n",
       "1  40.258061 -75.264680  BRIAR PATH & WHITEMARSH LN;  HATFIELD TOWNSHIP...   \n",
       "2  40.121182 -75.351975  HAWS AVE; NORRISTOWN; 2015-12-10 @ 14:39:21-St...   \n",
       "3  40.116153 -75.343513  AIRY ST & SWEDE ST;  NORRISTOWN; Station 308A;...   \n",
       "4  40.251492 -75.603350  CHERRYWOOD CT & DEAD END;  LOWER POTTSGROVE; S...   \n",
       "\n",
       "       zip                    title           timestamp                twp  \\\n",
       "0  19525.0   EMS: BACK PAINS/INJURY 2015-12-10 17:40:00        NEW HANOVER   \n",
       "1  19446.0  EMS: DIABETIC EMERGENCY 2015-12-10 17:40:00  HATFIELD TOWNSHIP   \n",
       "2  19401.0      Fire: GAS-ODOR/LEAK 2015-12-10 17:40:00         NORRISTOWN   \n",
       "3  19401.0   EMS: CARDIAC EMERGENCY 2015-12-10 17:40:01         NORRISTOWN   \n",
       "4      NaN           EMS: DIZZINESS 2015-12-10 17:40:01   LOWER POTTSGROVE   \n",
       "\n",
       "                         addr  e     timestamp_trunc  N  \n",
       "0      REINDEER CT & DEAD END  1 2015-12-10 17:00:00  1  \n",
       "1  BRIAR PATH & WHITEMARSH LN  1 2015-12-10 17:00:00  1  \n",
       "2                    HAWS AVE  1 2015-12-10 17:00:00  1  \n",
       "3          AIRY ST & SWEDE ST  1 2015-12-10 17:00:00  1  \n",
       "4    CHERRYWOOD CT & DEAD END  1 2015-12-10 17:00:00  1  "
      ]
     },
     "execution_count": 44,
     "metadata": {},
     "output_type": "execute_result"
    }
   ],
   "source": [
    "# Check the head of df\n",
    "df.head()"
   ]
  },
  {
   "cell_type": "markdown",
   "id": "31eb6ff8",
   "metadata": {},
   "source": [
    "# Prepare Data\n",
    "For the data prep, let’s transforming the raw data to count the number of calls each hour. We’re aggregating call count at the hour level because call volume at the minute-level is too low and we’re not expecting to see any seasonality below the hour-level. As a rule of thumb, we want our sampling frequency to be twice the highest component frequency the expecting to find in the signal. "
   ]
  },
  {
   "cell_type": "code",
   "execution_count": 34,
   "id": "89aaf353",
   "metadata": {},
   "outputs": [
    {
     "data": {
      "text/html": [
       "<div>\n",
       "<style scoped>\n",
       "    .dataframe tbody tr th:only-of-type {\n",
       "        vertical-align: middle;\n",
       "    }\n",
       "\n",
       "    .dataframe tbody tr th {\n",
       "        vertical-align: top;\n",
       "    }\n",
       "\n",
       "    .dataframe thead th {\n",
       "        text-align: right;\n",
       "    }\n",
       "</style>\n",
       "<table border=\"1\" class=\"dataframe\">\n",
       "  <thead>\n",
       "    <tr style=\"text-align: right;\">\n",
       "      <th></th>\n",
       "      <th>N</th>\n",
       "    </tr>\n",
       "    <tr>\n",
       "      <th>timestamp_trunc</th>\n",
       "      <th></th>\n",
       "    </tr>\n",
       "  </thead>\n",
       "  <tbody>\n",
       "    <tr>\n",
       "      <th>2015-12-10 14:00:00</th>\n",
       "      <td>1</td>\n",
       "    </tr>\n",
       "    <tr>\n",
       "      <th>2015-12-10 15:00:00</th>\n",
       "      <td>1</td>\n",
       "    </tr>\n",
       "    <tr>\n",
       "      <th>2015-12-10 16:00:00</th>\n",
       "      <td>6</td>\n",
       "    </tr>\n",
       "  </tbody>\n",
       "</table>\n",
       "</div>"
      ],
      "text/plain": [
       "                     N\n",
       "timestamp_trunc       \n",
       "2015-12-10 14:00:00  1\n",
       "2015-12-10 15:00:00  1\n",
       "2015-12-10 16:00:00  6"
      ]
     },
     "execution_count": 34,
     "metadata": {},
     "output_type": "execute_result"
    }
   ],
   "source": [
    "\n",
    "##Make data lowercase\n",
    "df = df.rename(columns = {k:k.lower() for k in df.columns})\n",
    "df.head()\n",
    "df['timestamp'] = pd.to_datetime(df['timestamp'])\n",
    "# dt. floor() function to floor the datetime data of the given series object to the specified frequency\n",
    "df['timestamp_trunc'] = df['timestamp'].dt.floor('H')\n",
    "df['N'] = 1\n",
    "# Count calls per hour\n",
    "counts = df.groupby(['timestamp_trunc']).sum()\n",
    "counts = counts[['N']]\n",
    "counts[:3]"
   ]
  },
  {
   "cell_type": "markdown",
   "id": "81ef9dd5",
   "metadata": {},
   "source": [
    "Also, we need to make sure we fill in any missing hours (where there were no 911 calls) with zeros. "
   ]
  },
  {
   "cell_type": "code",
   "execution_count": 35,
   "id": "1ed41b4d",
   "metadata": {},
   "outputs": [],
   "source": [
    "\n",
    "# Create time & signal, filling in missing hours with 0 calls\n",
    "counts_dict = counts['N'].to_dict()\n",
    "time = pd.date_range(min(counts.index), max(counts.index), freq = 'H').to_series().sort_values()"
   ]
  },
  {
   "cell_type": "markdown",
   "id": "52201fac",
   "metadata": {},
   "source": [
    "# Plotting\n",
    "\n",
    "Finally, for the signal, let’s chart the difference from the average call count instead of the call count itself. This way, our data is centered around 0, like a real sine wave.\n",
    "The first week of data is plotted on the right. Definitely seeing some seasonality here, so it looks like our analysis will be promising."
   ]
  },
  {
   "cell_type": "code",
   "execution_count": 16,
   "id": "b3d28094",
   "metadata": {},
   "outputs": [
    {
     "data": {
      "image/png": "[encoded data removed]",
      "text/plain": [
       "<Figure size 720x288 with 2 Axes>"
      ]
     },
     "metadata": {
      "needs_background": "light"
     },
     "output_type": "display_data"
    }
   ],
   "source": [
    "signal = time.apply(lambda x: counts_dict[x] if x in counts_dict.keys() else 0)\n",
    "# print(\"time \\n\",time[:1], \"\\n signal\\n\",signal[:1])\n",
    "\n",
    "# Set signal to be the difference of call volume from the average\n",
    "signal = signal - signal.mean()\n",
    "\n",
    "## Plot signal in the time domain\n",
    "plt.figure(figsize=(10, 4))\n",
    "\n",
    "ax1 = plt.subplot( 1, 2, 1 )\n",
    "ax1.plot(time, signal, label='signal')\n",
    "ax1.set_title('All Time')\n",
    "ax1.set_ylabel( 'Signal' )\n",
    "ax1.set_xlabel( 'Time' )\n",
    "plt.xticks(rotation=90)\n",
    "\n",
    "N = 24 * 7\n",
    "\n",
    "ax2 = plt.subplot( 1, 2, 2 )\n",
    "ax2.plot(time[:N], signal[:N])\n",
    "ax2.set_title('First Week')\n",
    "ax2.set_ylabel( 'Signal' )\n",
    "ax2.set_xlabel( 'Time' )\n",
    "\n",
    "plt.tight_layout()\n",
    "plt.xticks(rotation=90)\n",
    "\n",
    "plt.show()"
   ]
  },
  {
   "cell_type": "markdown",
   "id": "05b8844b",
   "metadata": {},
   "source": [
    "# Fourier Transformation:\n",
    "## Goal: Find Spikes in Ampitude\n",
    "We’ll be using the Fourier Transforms submodule in the SciPy package—scipy.fft. We’ll be using the SciPy Fast Fourier Transform (scipy.fft.fft) function to compute the Fourier Transform. Think of the Fast Fourier Transform (FFT) is as the Quicksort of Fourier Transforms. FFT is a more efficient way to compute the Fourier Transform and it’s the standard in most packages.\n",
    "\n",
    "Just pass the input data into the function and it’ll output the results of the transform. For the amplitude, take the absolute value of the results. To get the corresponding frequency, we use scipy.fft.fftfreq. We can chart the amplitude vs. the frequency. The frequencies with the highest amplitude are indicative of seasonal patterns. Frequencies with low amplitude are noise. Also, scipy’s periodogram function can also get us to a similar chart. We mark the frequencies where we clearly see spikes in amplitude."
   ]
  },
  {
   "cell_type": "code",
   "execution_count": 38,
   "id": "2b9eaa2d",
   "metadata": {},
   "outputs": [
    {
     "data": {
      "image/png": "[encoded data removed]",
      "text/plain": [
       "<Figure size 720x288 with 2 Axes>"
      ]
     },
     "metadata": {
      "needs_background": "light"
     },
     "output_type": "display_data"
    }
   ],
   "source": [
    "# Plotting power in the frequency domain\n",
    "fft_output = fft.fft(x=signal.values)\n",
    "power = np.abs(fft_output)\n",
    "freq = fft.fftfreq(len(signal))\n",
    "\n",
    "mask = freq >= 0\n",
    "freq = freq[mask]\n",
    "power = power[mask]\n",
    "\n",
    "plt.figure( figsize=(10, 4) )\n",
    "\n",
    "ax1 = plt.subplot( 1, 2, 1 )\n",
    "ax1.plot(freq, power, label='signal')\n",
    "ax1.set_title('All Frequencies')\n",
    "ax1.set_ylabel( 'Amplitude' )\n",
    "ax1.set_xlabel( 'Frequency [1 / Hour]' )\n",
    "plt.xticks(rotation=90)\n",
    "\n",
    "ax2 = plt.subplot( 1, 2, 2 )\n",
    "mask = (freq > 0) & (freq <= 0.25)\n",
    "ax2.plot(freq[mask], power[mask])\n",
    "ax2.set_title('Frequencies in (0, 0.25]')\n",
    "ax2.set_ylabel( 'Amplitude' )\n",
    "ax2.set_xlabel( 'Frequency [1 / Hour]' )\n",
    "\n",
    "peaks = sig.find_peaks(power[freq >=0], prominence=10**4)[0]\n",
    "peak_freq =  freq[peaks]\n",
    "peak_power = power[peaks]\n",
    "plt.plot(peak_freq, peak_power, 'ro')\n",
    "\n",
    "plt.tight_layout()\n",
    "plt.xticks(rotation=90);"
   ]
  },
  {
   "cell_type": "markdown",
   "id": "e1756ba8",
   "metadata": {},
   "source": [
    "# Frequencies in  Hour and Days and Power\n",
    "If we look at those frequencies with the highest amplitudes and convert them into hours and days, we see that the top seasonal pattern has a daily frequency (the period is ~1 day).\n",
    "\n"
   ]
  },
  {
   "cell_type": "code",
   "execution_count": 68,
   "id": "250bb006",
   "metadata": {},
   "outputs": [
    {
     "data": {
      "text/html": [
       "<div>\n",
       "<style scoped>\n",
       "    .dataframe tbody tr th:only-of-type {\n",
       "        vertical-align: middle;\n",
       "    }\n",
       "\n",
       "    .dataframe tbody tr th {\n",
       "        vertical-align: top;\n",
       "    }\n",
       "\n",
       "    .dataframe thead th {\n",
       "        text-align: right;\n",
       "    }\n",
       "</style>\n",
       "<table border=\"1\" class=\"dataframe\">\n",
       "  <thead>\n",
       "    <tr style=\"text-align: right;\">\n",
       "      <th></th>\n",
       "      <th>level_0</th>\n",
       "      <th>index</th>\n",
       "      <th>freq (1/hour)</th>\n",
       "      <th>amplitude</th>\n",
       "      <th>period (days)</th>\n",
       "      <th>fft</th>\n",
       "    </tr>\n",
       "  </thead>\n",
       "  <tbody>\n",
       "    <tr>\n",
       "      <th>0</th>\n",
       "      <td>5</td>\n",
       "      <td>1601</td>\n",
       "      <td>0.041662</td>\n",
       "      <td>182394.732257</td>\n",
       "      <td>1.000104</td>\n",
       "      <td>159960.560353+87638.219327j</td>\n",
       "    </tr>\n",
       "    <tr>\n",
       "      <th>1</th>\n",
       "      <td>6</td>\n",
       "      <td>3202</td>\n",
       "      <td>0.083325</td>\n",
       "      <td>23062.588873</td>\n",
       "      <td>0.500052</td>\n",
       "      <td>-13072.116883-19000.072782j</td>\n",
       "    </tr>\n",
       "    <tr>\n",
       "      <th>2</th>\n",
       "      <td>4</td>\n",
       "      <td>1372</td>\n",
       "      <td>0.035703</td>\n",
       "      <td>22739.231411</td>\n",
       "      <td>1.167031</td>\n",
       "      <td>13715.245705+18137.383506j</td>\n",
       "    </tr>\n",
       "    <tr>\n",
       "      <th>3</th>\n",
       "      <td>1</td>\n",
       "      <td>229</td>\n",
       "      <td>0.005959</td>\n",
       "      <td>20938.466518</td>\n",
       "      <td>6.991994</td>\n",
       "      <td>19667.5580750-7183.7691690j</td>\n",
       "    </tr>\n",
       "    <tr>\n",
       "      <th>4</th>\n",
       "      <td>9</td>\n",
       "      <td>4803</td>\n",
       "      <td>0.124987</td>\n",
       "      <td>20551.122807</td>\n",
       "      <td>0.333368</td>\n",
       "      <td>18995.7767450-7842.7746650j</td>\n",
       "    </tr>\n",
       "    <tr>\n",
       "      <th>5</th>\n",
       "      <td>3</td>\n",
       "      <td>1144</td>\n",
       "      <td>0.029770</td>\n",
       "      <td>17911.587125</td>\n",
       "      <td>1.399621</td>\n",
       "      <td>10673.835529+14383.816893j</td>\n",
       "    </tr>\n",
       "    <tr>\n",
       "      <th>6</th>\n",
       "      <td>7</td>\n",
       "      <td>3431</td>\n",
       "      <td>0.089284</td>\n",
       "      <td>16526.855230</td>\n",
       "      <td>0.466676</td>\n",
       "      <td>11404.119064-11961.731152j</td>\n",
       "    </tr>\n",
       "    <tr>\n",
       "      <th>7</th>\n",
       "      <td>2</td>\n",
       "      <td>458</td>\n",
       "      <td>0.011918</td>\n",
       "      <td>14675.705794</td>\n",
       "      <td>3.495997</td>\n",
       "      <td>-13795.7671120+5005.3122120j</td>\n",
       "    </tr>\n",
       "    <tr>\n",
       "      <th>8</th>\n",
       "      <td>0</td>\n",
       "      <td>1</td>\n",
       "      <td>0.000026</td>\n",
       "      <td>14321.339760</td>\n",
       "      <td>1601.166667</td>\n",
       "      <td>-10959.9113260+9218.5202850j</td>\n",
       "    </tr>\n",
       "    <tr>\n",
       "      <th>9</th>\n",
       "      <td>11</td>\n",
       "      <td>8006</td>\n",
       "      <td>0.208338</td>\n",
       "      <td>13559.538711</td>\n",
       "      <td>0.199996</td>\n",
       "      <td>-4354.712166+012841.2449550j</td>\n",
       "    </tr>\n",
       "    <tr>\n",
       "      <th>10</th>\n",
       "      <td>10</td>\n",
       "      <td>5032</td>\n",
       "      <td>0.130946</td>\n",
       "      <td>10555.656453</td>\n",
       "      <td>0.318197</td>\n",
       "      <td>10068.6763890+3169.1700690j</td>\n",
       "    </tr>\n",
       "    <tr>\n",
       "      <th>11</th>\n",
       "      <td>8</td>\n",
       "      <td>4575</td>\n",
       "      <td>0.119054</td>\n",
       "      <td>10157.304197</td>\n",
       "      <td>0.349982</td>\n",
       "      <td>-9968.9251750+1947.1413390j</td>\n",
       "    </tr>\n",
       "  </tbody>\n",
       "</table>\n",
       "</div>"
      ],
      "text/plain": [
       "    level_0  index  freq (1/hour)      amplitude  period (days)  \\\n",
       "0         5   1601       0.041662  182394.732257       1.000104   \n",
       "1         6   3202       0.083325   23062.588873       0.500052   \n",
       "2         4   1372       0.035703   22739.231411       1.167031   \n",
       "3         1    229       0.005959   20938.466518       6.991994   \n",
       "4         9   4803       0.124987   20551.122807       0.333368   \n",
       "5         3   1144       0.029770   17911.587125       1.399621   \n",
       "6         7   3431       0.089284   16526.855230       0.466676   \n",
       "7         2    458       0.011918   14675.705794       3.495997   \n",
       "8         0      1       0.000026   14321.339760    1601.166667   \n",
       "9        11   8006       0.208338   13559.538711       0.199996   \n",
       "10       10   5032       0.130946   10555.656453       0.318197   \n",
       "11        8   4575       0.119054   10157.304197       0.349982   \n",
       "\n",
       "                            fft  \n",
       "0   159960.560353+87638.219327j  \n",
       "1   -13072.116883-19000.072782j  \n",
       "2    13715.245705+18137.383506j  \n",
       "3   19667.5580750-7183.7691690j  \n",
       "4   18995.7767450-7842.7746650j  \n",
       "5    10673.835529+14383.816893j  \n",
       "6    11404.119064-11961.731152j  \n",
       "7  -13795.7671120+5005.3122120j  \n",
       "8  -10959.9113260+9218.5202850j  \n",
       "9  -4354.712166+012841.2449550j  \n",
       "10  10068.6763890+3169.1700690j  \n",
       "11  -9968.9251750+1947.1413390j  "
      ]
     },
     "execution_count": 68,
     "metadata": {},
     "output_type": "execute_result"
    }
   ],
   "source": [
    "output = pd.DataFrame()\n",
    "output['index'] = peaks\n",
    "output['freq (1/hour)'] = peak_freq\n",
    "output['amplitude'] = peak_power\n",
    "output['period (days)'] = 1 / peak_freq / 24\n",
    "output['fft'] = fft_output[peaks]\n",
    "output = output.sort_values('amplitude', ascending=False)\n",
    "\n",
    "output.reset_index()"
   ]
  },
  {
   "cell_type": "markdown",
   "id": "8ae141f9",
   "metadata": {},
   "source": [
    "After that, the amplitude sharply drops off and we see seasonality at 8 hours and 7 days. The former suggests there’s a spike in call volume 3 times a day (potentially morning, evening, and late-night?). The latter suggests that call volume spikes one day out of the week.\n",
    "\n",
    "The other frequencies are difficult to contextualize, but they’re not very important given their low amplitudes."
   ]
  },
  {
   "cell_type": "code",
   "execution_count": 32,
   "id": "544f4cdd",
   "metadata": {},
   "outputs": [
    {
     "name": "stdout",
     "output_type": "stream",
     "text": [
      "\n"
     ]
    },
    {
     "data": {
      "image/png": "[encoded data removed]",
      "text/plain": [
       "<Figure size 432x288 with 1 Axes>"
      ]
     },
     "metadata": {
      "needs_background": "light"
     },
     "output_type": "display_data"
    }
   ],
   "source": [
    "filtered_fft_output = np.array([f if i == 1626 else 0 for i, f in enumerate(fft_output)])\n",
    "filtered_sig = fft.ifft(filtered_fft_output)\n",
    "\n",
    "N = 24 * 5\n",
    "plt.plot(time[:N], signal[:N], linewidth=1, label='Original signal')\n",
    "plt.plot(time[:N], filtered_sig[:N].real, linewidth=1, label='Filtered signal')\n",
    "plt.legend(loc='upper right')\n",
    "ax2.set_title('First 5 Days')\n",
    "plt.grid()\n",
    "plt.ylim((-25, 25))\n",
    "plt.xticks(rotation=90)\n",
    "\n",
    "print()"
   ]
  },
  {
   "cell_type": "markdown",
   "id": "2c61b0ee",
   "metadata": {},
   "source": [
    "# Results and What can we do?\n",
    "In the above, we’ve answered our initial questions around what kind of seasonality is in the data, but we haven’t been able to answer when seasonality spikes accurately. To take our analysis to the next level, we need to incorporate seasonality into our regression models.\n",
    "\n",
    "This will help us figure out when seasonality spikes by trying different inputs inspired by our Fourier results. Additionally, this will allow us to combine seasonality with other variables in our regression model so we can predict future call volume more accurately. We’ll also see how seasonality is often used as a way to explain the residuals in a regression model."
   ]
  },
  {
   "cell_type": "markdown",
   "id": "68eecb20",
   "metadata": {},
   "source": [
    "# When seasonality spikes accurately?\n",
    " In order to do so, we’ll first run a linear regression and then perform a Fourier transform on the residuals—the errors of the first regression.\n",
    "\n",
    "What we’re doing is giving our best shot trying to explain the data without using seasonality, and then we’ll use seasonality to explain whatever we can’t explain. "
   ]
  },
  {
   "cell_type": "code",
   "execution_count": 79,
   "id": "268ec611",
   "metadata": {},
   "outputs": [],
   "source": [
    "# Create a new DF with time & signal, filling in missing hours with 0 calls\n",
    "data = pd.DataFrame()\n",
    "data['time'] = pd.date_range(min(counts.index), max(counts.index), freq = 'H')\n",
    "data.set_index('time')\n",
    "data['time_sec'] = (data.time - min(data.time)).dt.total_seconds()\n",
    "data['signal'] = data.time.apply(lambda x: counts_dict[x] if x in counts_dict.keys() else 0)\n",
    "\n",
    "# time_sec is the hourly timestamp converted to seconds\n",
    "X = pd.DataFrame(data['time_sec']) \n",
    "# signal is how many calls were made in that hour\n",
    "y = pd.DataFrame(data['signal']) "
   ]
  },
  {
   "cell_type": "markdown",
   "id": "d45191d5",
   "metadata": {},
   "source": [
    "# Calculating the residuals\n",
    "The first step is to do the regression. This is from using Sckit-Learn’s LinearRegression model"
   ]
  },
  {
   "cell_type": "code",
   "execution_count": 80,
   "id": "9ae6ead5",
   "metadata": {},
   "outputs": [],
   "source": [
    "model = LinearRegression()\n",
    "model.fit(X, y) \n",
    "data['pred_signal_linreg'] = model.predict(X)\n",
    "data['residuals'] = data['signal'] - data['pred_signal_linreg']\n",
    "\n",
    "time = data['time']\n",
    "residuals = data['residuals']"
   ]
  },
  {
   "cell_type": "markdown",
   "id": "e9463a52",
   "metadata": {},
   "source": [
    "Looking at the model coefficients and intercept, we find a slope of about −3E−10 and intercept of 16.40."
   ]
  },
  {
   "cell_type": "markdown",
   "id": "09516540",
   "metadata": {},
   "source": [
    "### LinearRegression Interpretation: \n",
    "So the call volume starts at ~16.4 calls per hour, and every year the call volume goes down by about −3E−10 × 60 × 60 × 24 × 365 ≈ 0.009 calls per hour.\n",
    "\n",
    "Our initial hypothesis that we’d see an increase in 911 calls proportional to population growth doesn’t seem to ring true. Also, it’s clear that this regression isn’t very helpful. "
   ]
  },
  {
   "cell_type": "code",
   "execution_count": 82,
   "id": "a355cd4b",
   "metadata": {},
   "outputs": [
    {
     "name": "stdout",
     "output_type": "stream",
     "text": [
      "Slope: 2.64e-09, Intercept: 16.26\n",
      "R-squared: 1.01e-04\n"
     ]
    }
   ],
   "source": [
    "print('Slope: {:.2e}, Intercept: {:.2f}'.format(model.coef_[0,0], model.intercept_[0]))\n",
    "print('R-squared: {:.2e}'.format(model.score(X,y)))"
   ]
  },
  {
   "cell_type": "markdown",
   "id": "ac4c105b",
   "metadata": {},
   "source": [
    "## Low R Square:\n",
    "The R² above is really pitiful. The low R-squared reveals poor fit on time alone. This suggests that we can improve R-squared (fitting) significantly by incorporating our Fourier terms."
   ]
  },
  {
   "cell_type": "markdown",
   "id": "a6a83a5c",
   "metadata": {},
   "source": [
    "# Fourier transform of Residuals\n",
    "As we said above, we’ll use the Fourier transform to find the most dominant frequencies. Here are the dominant frequencies we find after the Fourier transform."
   ]
  },
  {
   "cell_type": "code",
   "execution_count": 84,
   "id": "a887f5e5",
   "metadata": {},
   "outputs": [
    {
     "data": {
      "image/png": "[encoded data removed]",
      "text/plain": [
       "<Figure size 720x288 with 2 Axes>"
      ]
     },
     "metadata": {
      "needs_background": "light"
     },
     "output_type": "display_data"
    }
   ],
   "source": [
    "## Plot residuals in the time domain\n",
    "plt.figure(figsize=(10, 4))\n",
    "\n",
    "ax1 = plt.subplot( 1, 2, 1 )\n",
    "ax1.plot(time, residuals, label='residuals')\n",
    "ax1.set_title('All Time')\n",
    "ax1.set_ylabel( 'Residuals' )\n",
    "ax1.set_xlabel( 'Time' )\n",
    "plt.xticks(rotation=90)\n",
    "\n",
    "N = 24 * 7\n",
    "\n",
    "ax2 = plt.subplot( 1, 2, 2 )\n",
    "ax2.plot(time[:N], residuals[:N])\n",
    "ax2.set_title('First Week')\n",
    "ax2.set_ylabel( 'Residuals' )\n",
    "ax2.set_xlabel( 'Time' )\n",
    "\n",
    "plt.tight_layout()\n",
    "plt.xticks(rotation=90)\n",
    "\n",
    "plt.show()"
   ]
  },
  {
   "cell_type": "markdown",
   "id": "93009a85",
   "metadata": {},
   "source": [
    "#  Find the Dominant Frequencies of Residuals"
   ]
  },
  {
   "cell_type": "code",
   "execution_count": 50,
   "id": "b566fa25",
   "metadata": {},
   "outputs": [
    {
     "data": {
      "image/png": "[encoded data removed]",
      "text/plain": [
       "<Figure size 720x288 with 2 Axes>"
      ]
     },
     "metadata": {
      "needs_background": "light"
     },
     "output_type": "display_data"
    }
   ],
   "source": [
    "# Plotting power in the frequency domain\n",
    "fft_output = fft.fft(residuals.values)\n",
    "power = np.abs(fft_output)\n",
    "freq = fft.fftfreq(len(residuals))\n",
    "\n",
    "mask = freq >= 0\n",
    "freq = freq[mask]\n",
    "power = power[mask]\n",
    "\n",
    "plt.figure( figsize=(10, 4) )\n",
    "\n",
    "ax1 = plt.subplot( 1, 2, 1 )\n",
    "ax1.plot(freq, power, label='residuals')\n",
    "ax1.set_title('All Frequencies')\n",
    "ax1.set_ylabel( 'Amplitude' )\n",
    "ax1.set_xlabel( 'Frequency [1 / Hour]' )\n",
    "plt.xticks(rotation=90)\n",
    "\n",
    "ax2 = plt.subplot( 1, 2, 2 )\n",
    "mask = (freq > 0) & (freq <= 0.25)\n",
    "ax2.plot(freq[mask], power[mask])\n",
    "ax2.set_title('Frequencies in (0, 0.25]')\n",
    "ax2.set_ylabel( 'Amplitude' )\n",
    "ax2.set_xlabel( 'Frequency [1 / Hour]' )\n",
    "\n",
    "peaks = sig.find_peaks(power[freq >=0], prominence=10**4)[0]\n",
    "peak_freq =  freq[peaks]\n",
    "peak_power = power[peaks]\n",
    "plt.plot(peak_freq, peak_power, 'ro')\n",
    "\n",
    "plt.tight_layout()\n",
    "plt.xticks(rotation=90);"
   ]
  },
  {
   "cell_type": "markdown",
   "id": "7ebf9011",
   "metadata": {},
   "source": [
    "Here are the values these peaks correspond to (not very different from what we saw in plotting signals in the above). \n"
   ]
  },
  {
   "cell_type": "code",
   "execution_count": 51,
   "id": "44b5a4ea",
   "metadata": {},
   "outputs": [
    {
     "data": {
      "text/html": [
       "<div>\n",
       "<style scoped>\n",
       "    .dataframe tbody tr th:only-of-type {\n",
       "        vertical-align: middle;\n",
       "    }\n",
       "\n",
       "    .dataframe tbody tr th {\n",
       "        vertical-align: top;\n",
       "    }\n",
       "\n",
       "    .dataframe thead th {\n",
       "        text-align: right;\n",
       "    }\n",
       "</style>\n",
       "<table border=\"1\" class=\"dataframe\">\n",
       "  <thead>\n",
       "    <tr style=\"text-align: right;\">\n",
       "      <th></th>\n",
       "      <th>index</th>\n",
       "      <th>freq (1/hour)</th>\n",
       "      <th>amplitude</th>\n",
       "      <th>period (days)</th>\n",
       "      <th>fft</th>\n",
       "    </tr>\n",
       "  </thead>\n",
       "  <tbody>\n",
       "    <tr>\n",
       "      <th>5</th>\n",
       "      <td>1601</td>\n",
       "      <td>0.041662</td>\n",
       "      <td>182394.732257</td>\n",
       "      <td>1.000104</td>\n",
       "      <td>159960.560353+87638.219327j</td>\n",
       "    </tr>\n",
       "    <tr>\n",
       "      <th>6</th>\n",
       "      <td>3202</td>\n",
       "      <td>0.083325</td>\n",
       "      <td>23062.588873</td>\n",
       "      <td>0.500052</td>\n",
       "      <td>-13072.116883-19000.072782j</td>\n",
       "    </tr>\n",
       "    <tr>\n",
       "      <th>4</th>\n",
       "      <td>1372</td>\n",
       "      <td>0.035703</td>\n",
       "      <td>22739.231411</td>\n",
       "      <td>1.167031</td>\n",
       "      <td>13715.245705+18137.383506j</td>\n",
       "    </tr>\n",
       "    <tr>\n",
       "      <th>1</th>\n",
       "      <td>229</td>\n",
       "      <td>0.005959</td>\n",
       "      <td>20938.466518</td>\n",
       "      <td>6.991994</td>\n",
       "      <td>19667.5580750-7183.7691690j</td>\n",
       "    </tr>\n",
       "    <tr>\n",
       "      <th>9</th>\n",
       "      <td>4803</td>\n",
       "      <td>0.124987</td>\n",
       "      <td>20551.122807</td>\n",
       "      <td>0.333368</td>\n",
       "      <td>18995.7767450-7842.7746650j</td>\n",
       "    </tr>\n",
       "    <tr>\n",
       "      <th>3</th>\n",
       "      <td>1144</td>\n",
       "      <td>0.029770</td>\n",
       "      <td>17911.587125</td>\n",
       "      <td>1.399621</td>\n",
       "      <td>10673.835529+14383.816893j</td>\n",
       "    </tr>\n",
       "    <tr>\n",
       "      <th>7</th>\n",
       "      <td>3431</td>\n",
       "      <td>0.089284</td>\n",
       "      <td>16526.855230</td>\n",
       "      <td>0.466676</td>\n",
       "      <td>11404.119064-11961.731152j</td>\n",
       "    </tr>\n",
       "    <tr>\n",
       "      <th>2</th>\n",
       "      <td>458</td>\n",
       "      <td>0.011918</td>\n",
       "      <td>14675.705794</td>\n",
       "      <td>3.495997</td>\n",
       "      <td>-13795.7671120+5005.3122120j</td>\n",
       "    </tr>\n",
       "    <tr>\n",
       "      <th>0</th>\n",
       "      <td>1</td>\n",
       "      <td>0.000026</td>\n",
       "      <td>14321.339760</td>\n",
       "      <td>1601.166667</td>\n",
       "      <td>-10959.9113260+9218.5202850j</td>\n",
       "    </tr>\n",
       "    <tr>\n",
       "      <th>11</th>\n",
       "      <td>8006</td>\n",
       "      <td>0.208338</td>\n",
       "      <td>13559.538711</td>\n",
       "      <td>0.199996</td>\n",
       "      <td>-4354.712166+012841.2449550j</td>\n",
       "    </tr>\n",
       "    <tr>\n",
       "      <th>10</th>\n",
       "      <td>5032</td>\n",
       "      <td>0.130946</td>\n",
       "      <td>10555.656453</td>\n",
       "      <td>0.318197</td>\n",
       "      <td>10068.6763890+3169.1700690j</td>\n",
       "    </tr>\n",
       "    <tr>\n",
       "      <th>8</th>\n",
       "      <td>4575</td>\n",
       "      <td>0.119054</td>\n",
       "      <td>10157.304197</td>\n",
       "      <td>0.349982</td>\n",
       "      <td>-9968.9251750+1947.1413390j</td>\n",
       "    </tr>\n",
       "  </tbody>\n",
       "</table>\n",
       "</div>"
      ],
      "text/plain": [
       "    index  freq (1/hour)      amplitude  period (days)  \\\n",
       "5    1601       0.041662  182394.732257       1.000104   \n",
       "6    3202       0.083325   23062.588873       0.500052   \n",
       "4    1372       0.035703   22739.231411       1.167031   \n",
       "1     229       0.005959   20938.466518       6.991994   \n",
       "9    4803       0.124987   20551.122807       0.333368   \n",
       "3    1144       0.029770   17911.587125       1.399621   \n",
       "7    3431       0.089284   16526.855230       0.466676   \n",
       "2     458       0.011918   14675.705794       3.495997   \n",
       "0       1       0.000026   14321.339760    1601.166667   \n",
       "11   8006       0.208338   13559.538711       0.199996   \n",
       "10   5032       0.130946   10555.656453       0.318197   \n",
       "8    4575       0.119054   10157.304197       0.349982   \n",
       "\n",
       "                            fft  \n",
       "5   159960.560353+87638.219327j  \n",
       "6   -13072.116883-19000.072782j  \n",
       "4    13715.245705+18137.383506j  \n",
       "1   19667.5580750-7183.7691690j  \n",
       "9   18995.7767450-7842.7746650j  \n",
       "3    10673.835529+14383.816893j  \n",
       "7    11404.119064-11961.731152j  \n",
       "2  -13795.7671120+5005.3122120j  \n",
       "0  -10959.9113260+9218.5202850j  \n",
       "11 -4354.712166+012841.2449550j  \n",
       "10  10068.6763890+3169.1700690j  \n",
       "8   -9968.9251750+1947.1413390j  "
      ]
     },
     "execution_count": 51,
     "metadata": {},
     "output_type": "execute_result"
    }
   ],
   "source": [
    "output = pd.DataFrame()\n",
    "output['index'] = peaks\n",
    "output['freq (1/hour)'] = peak_freq\n",
    "output['amplitude'] = peak_power\n",
    "output['period (days)'] = 1 / peak_freq / 24\n",
    "output['fft'] = fft_output[peaks]\n",
    "output = output.sort_values('amplitude', ascending=False)\n",
    "\n",
    "output"
   ]
  },
  {
   "cell_type": "markdown",
   "id": "8031e35b",
   "metadata": {},
   "source": [
    "I labeled indexes with FT_1 ... FT_12 for easy reference.\n",
    "\n",
    "The FFT column is what’s output by running scipy.fft.fft(residuals) plotted above. We can get the frequencies by running fft.fftfreq(len(residuals)) . These frequencies will have the unit of 1 / timestep, where the timestep is the spacing between our residuals (in our case, this is an hour) The amplitude is abs(fft) and the phase is cmath.phase(fft) ."
   ]
  },
  {
   "cell_type": "code",
   "execution_count": 53,
   "id": "0df4c98b",
   "metadata": {},
   "outputs": [
    {
     "data": {
      "text/html": [
       "<div>\n",
       "<style scoped>\n",
       "    .dataframe tbody tr th:only-of-type {\n",
       "        vertical-align: middle;\n",
       "    }\n",
       "\n",
       "    .dataframe tbody tr th {\n",
       "        vertical-align: top;\n",
       "    }\n",
       "\n",
       "    .dataframe thead th {\n",
       "        text-align: right;\n",
       "    }\n",
       "</style>\n",
       "<table border=\"1\" class=\"dataframe\">\n",
       "  <thead>\n",
       "    <tr style=\"text-align: right;\">\n",
       "      <th></th>\n",
       "      <th>fft</th>\n",
       "      <th>freq (1 / hour)</th>\n",
       "      <th>amplitude</th>\n",
       "      <th>phase</th>\n",
       "    </tr>\n",
       "    <tr>\n",
       "      <th>label</th>\n",
       "      <th></th>\n",
       "      <th></th>\n",
       "      <th></th>\n",
       "      <th></th>\n",
       "    </tr>\n",
       "  </thead>\n",
       "  <tbody>\n",
       "    <tr>\n",
       "      <th>FT_1</th>\n",
       "      <td>159960.560353+87638.219327j</td>\n",
       "      <td>0.041662</td>\n",
       "      <td>182394.732257</td>\n",
       "      <td>0.501209</td>\n",
       "    </tr>\n",
       "    <tr>\n",
       "      <th>FT_2</th>\n",
       "      <td>-13072.116883-19000.072782j</td>\n",
       "      <td>0.083325</td>\n",
       "      <td>23062.588873</td>\n",
       "      <td>-2.173426</td>\n",
       "    </tr>\n",
       "    <tr>\n",
       "      <th>FT_3</th>\n",
       "      <td>13715.245705+18137.383506j</td>\n",
       "      <td>0.035703</td>\n",
       "      <td>22739.231411</td>\n",
       "      <td>0.923348</td>\n",
       "    </tr>\n",
       "    <tr>\n",
       "      <th>FT_4</th>\n",
       "      <td>19667.5580750-7183.7691690j</td>\n",
       "      <td>0.005959</td>\n",
       "      <td>20938.466518</td>\n",
       "      <td>-0.350204</td>\n",
       "    </tr>\n",
       "    <tr>\n",
       "      <th>FT_5</th>\n",
       "      <td>18995.7767450-7842.7746650j</td>\n",
       "      <td>0.124987</td>\n",
       "      <td>20551.122807</td>\n",
       "      <td>-0.391551</td>\n",
       "    </tr>\n",
       "    <tr>\n",
       "      <th>FT_6</th>\n",
       "      <td>10673.835529+14383.816893j</td>\n",
       "      <td>0.029770</td>\n",
       "      <td>17911.587125</td>\n",
       "      <td>0.932388</td>\n",
       "    </tr>\n",
       "    <tr>\n",
       "      <th>FT_7</th>\n",
       "      <td>11404.119064-11961.731152j</td>\n",
       "      <td>0.089284</td>\n",
       "      <td>16526.855230</td>\n",
       "      <td>-0.809258</td>\n",
       "    </tr>\n",
       "    <tr>\n",
       "      <th>FT_8</th>\n",
       "      <td>-13795.7671120+5005.3122120j</td>\n",
       "      <td>0.011918</td>\n",
       "      <td>14675.705794</td>\n",
       "      <td>2.793547</td>\n",
       "    </tr>\n",
       "    <tr>\n",
       "      <th>FT_9</th>\n",
       "      <td>-10959.9113260+9218.5202850j</td>\n",
       "      <td>0.000026</td>\n",
       "      <td>14321.339760</td>\n",
       "      <td>2.442281</td>\n",
       "    </tr>\n",
       "    <tr>\n",
       "      <th>FT_10</th>\n",
       "      <td>-4354.712166+012841.2449550j</td>\n",
       "      <td>0.208338</td>\n",
       "      <td>13559.538711</td>\n",
       "      <td>1.897745</td>\n",
       "    </tr>\n",
       "    <tr>\n",
       "      <th>FT_11</th>\n",
       "      <td>10068.6763890+3169.1700690j</td>\n",
       "      <td>0.130946</td>\n",
       "      <td>10555.656453</td>\n",
       "      <td>0.304938</td>\n",
       "    </tr>\n",
       "    <tr>\n",
       "      <th>FT_12</th>\n",
       "      <td>-9968.9251750+1947.1413390j</td>\n",
       "      <td>0.119054</td>\n",
       "      <td>10157.304197</td>\n",
       "      <td>2.948700</td>\n",
       "    </tr>\n",
       "  </tbody>\n",
       "</table>\n",
       "</div>"
      ],
      "text/plain": [
       "                               fft  freq (1 / hour)      amplitude     phase\n",
       "label                                                                       \n",
       "FT_1   159960.560353+87638.219327j         0.041662  182394.732257  0.501209\n",
       "FT_2   -13072.116883-19000.072782j         0.083325   23062.588873 -2.173426\n",
       "FT_3    13715.245705+18137.383506j         0.035703   22739.231411  0.923348\n",
       "FT_4   19667.5580750-7183.7691690j         0.005959   20938.466518 -0.350204\n",
       "FT_5   18995.7767450-7842.7746650j         0.124987   20551.122807 -0.391551\n",
       "FT_6    10673.835529+14383.816893j         0.029770   17911.587125  0.932388\n",
       "FT_7    11404.119064-11961.731152j         0.089284   16526.855230 -0.809258\n",
       "FT_8  -13795.7671120+5005.3122120j         0.011918   14675.705794  2.793547\n",
       "FT_9  -10959.9113260+9218.5202850j         0.000026   14321.339760  2.442281\n",
       "FT_10 -4354.712166+012841.2449550j         0.208338   13559.538711  1.897745\n",
       "FT_11  10068.6763890+3169.1700690j         0.130946   10555.656453  0.304938\n",
       "FT_12  -9968.9251750+1947.1413390j         0.119054   10157.304197  2.948700"
      ]
     },
     "execution_count": 53,
     "metadata": {},
     "output_type": "execute_result"
    }
   ],
   "source": [
    "from cmath import phase\n",
    "\n",
    "fourier_terms = pd.DataFrame()\n",
    "fourier_terms['fft'] = output['fft']\n",
    "fourier_terms['freq (1 / hour)'] = output['freq (1/hour)']\n",
    "fourier_terms['amplitude'] = fourier_terms.fft.apply(lambda z: abs(z)) \n",
    "fourier_terms['phase'] = fourier_terms.fft.apply(lambda z: phase(z))\n",
    "fourier_terms.sort_values(by=['amplitude'], ascending=[0])\n",
    "\n",
    "# Create some helpful labels (FT_1..FT_N)\n",
    "fourier_terms['label'] = list(map(lambda n : 'FT_{}'.format(n), range(1, len(fourier_terms) + 1)))\n",
    "\n",
    "# Turn our dataframe into a dictionary for easy lookup\n",
    "fourier_terms = fourier_terms.set_index('label')\n",
    "fourier_terms_dict = fourier_terms.to_dict('index')\n",
    "\n",
    "fourier_terms"
   ]
  },
  {
   "cell_type": "markdown",
   "id": "a500cdfb",
   "metadata": {},
   "source": [
    "In the above, each of these rows, corresponds to a sinusoid (a curve having the form of a sine wave). We can use the inverse Fourier transform to calculate these sinusoid and plot their sum versus the original residuals. "
   ]
  },
  {
   "cell_type": "markdown",
   "id": "8f2029f0",
   "metadata": {},
   "source": [
    "# Inverse Fourier Transform\n",
    "We use this to calculate these sinusoid and plot their sum versus the original residuals"
   ]
  },
  {
   "cell_type": "code",
   "execution_count": 85,
   "id": "43aa4284",
   "metadata": {},
   "outputs": [
    {
     "name": "stdout",
     "output_type": "stream",
     "text": [
      "\n"
     ]
    },
    {
     "data": {
      "image/png": "[encoded data removed]",
      "text/plain": [
       "<Figure size 432x288 with 1 Axes>"
      ]
     },
     "metadata": {
      "needs_background": "light"
     },
     "output_type": "display_data"
    }
   ],
   "source": [
    "filtered_fft_output = np.array([f if i in list(output['index']) else 0 for i, f in enumerate(fft_output)])\n",
    "filtered_residuals = fft.ifft(filtered_fft_output)\n",
    "\n",
    "N = 24 * 5\n",
    "plt.plot(time[:N], residuals[:N], linewidth=1, label='Original residuals')\n",
    "plt.plot(time[:N], filtered_residuals[:N].real, linewidth=1, label='Filtered residuals')\n",
    "plt.legend(loc='upper right')\n",
    "plt.suptitle('First 5 Days')\n",
    "plt.grid()\n",
    "plt.ylim((-25, 25))\n",
    "plt.xticks(rotation=90)\n",
    "\n",
    "print()"
   ]
  },
  {
   "cell_type": "markdown",
   "id": "09de7125",
   "metadata": {},
   "source": [
    "Compared to the last signal plot, these Inverse Fourier Transform of residuals and original residual data fit pretty well."
   ]
  },
  {
   "cell_type": "markdown",
   "id": "c3c68a41",
   "metadata": {},
   "source": [
    "# Incorporating into our regression\n",
    "Now lets incorporate our sinusoids into our initial regression. The problem with these sinusoids is that the amplitude is off. You can see in the chart above that it appears too low. This is because we did the Fourier transform on the resiudals and filtered the output down to just 12 terms. So our filtering\n",
    "\n",
    "Our initial regression just used time as its only variable, but now we can add our Fourier terms. The phase, amplitude, and frequency let us plot the wave that the FFT term corresponds to, using this formula.\n",
    "\n",
    "<img src=\"equation.png\">\n",
    "\n",
    "What we’re trying to do now is figure out what the new regression would be if we added several new variables related to these waves from the FFT.\n",
    "\n",
    "So we go back to our original data, that had the time in seconds and the number of calls for that time, and we add several columns corresponding to each of the waves from our Fourier transform. Then we can sum these together into a new column, FT_All that is as follows. \n",
    "This gives us a new variable, FT_All , which is the same as the “Filtered Residuals” we charted earlier."
   ]
  },
  {
   "cell_type": "code",
   "execution_count": 54,
   "id": "80a6bce7",
   "metadata": {},
   "outputs": [
    {
     "data": {
      "text/html": [
       "<div>\n",
       "<style scoped>\n",
       "    .dataframe tbody tr th:only-of-type {\n",
       "        vertical-align: middle;\n",
       "    }\n",
       "\n",
       "    .dataframe tbody tr th {\n",
       "        vertical-align: top;\n",
       "    }\n",
       "\n",
       "    .dataframe thead th {\n",
       "        text-align: right;\n",
       "    }\n",
       "</style>\n",
       "<table border=\"1\" class=\"dataframe\">\n",
       "  <thead>\n",
       "    <tr style=\"text-align: right;\">\n",
       "      <th></th>\n",
       "      <th>signal</th>\n",
       "      <th>time_sec</th>\n",
       "      <th>FT_All</th>\n",
       "      <th>FT_1</th>\n",
       "      <th>FT_2</th>\n",
       "      <th>FT_3</th>\n",
       "      <th>FT_4</th>\n",
       "      <th>FT_5</th>\n",
       "      <th>FT_6</th>\n",
       "      <th>FT_7</th>\n",
       "      <th>FT_8</th>\n",
       "      <th>FT_9</th>\n",
       "      <th>FT_10</th>\n",
       "      <th>FT_11</th>\n",
       "      <th>FT_12</th>\n",
       "    </tr>\n",
       "  </thead>\n",
       "  <tbody>\n",
       "    <tr>\n",
       "      <th>0</th>\n",
       "      <td>1</td>\n",
       "      <td>0.0</td>\n",
       "      <td>192334.339198</td>\n",
       "      <td>159960.560353</td>\n",
       "      <td>-13072.116883</td>\n",
       "      <td>13715.245705</td>\n",
       "      <td>19667.558075</td>\n",
       "      <td>18995.776745</td>\n",
       "      <td>10673.835529</td>\n",
       "      <td>11404.119064</td>\n",
       "      <td>-13795.767112</td>\n",
       "      <td>-10959.911326</td>\n",
       "      <td>-4354.712166</td>\n",
       "      <td>10068.676389</td>\n",
       "      <td>-9968.925175</td>\n",
       "    </tr>\n",
       "    <tr>\n",
       "      <th>1</th>\n",
       "      <td>1</td>\n",
       "      <td>3600.0</td>\n",
       "      <td>159349.882849</td>\n",
       "      <td>131831.031197</td>\n",
       "      <td>-1822.001937</td>\n",
       "      <td>9336.881269</td>\n",
       "      <td>19922.690259</td>\n",
       "      <td>18978.366368</td>\n",
       "      <td>7812.818722</td>\n",
       "      <td>16020.120818</td>\n",
       "      <td>-14131.577934</td>\n",
       "      <td>-10961.418458</td>\n",
       "      <td>-13530.748527</td>\n",
       "      <td>4525.644383</td>\n",
       "      <td>-8631.923308</td>\n",
       "    </tr>\n",
       "    <tr>\n",
       "      <th>2</th>\n",
       "      <td>6</td>\n",
       "      <td>7200.0</td>\n",
       "      <td>122928.877454</td>\n",
       "      <td>94719.294653</td>\n",
       "      <td>9916.217658</td>\n",
       "      <td>4490.617751</td>\n",
       "      <td>20149.894922</td>\n",
       "      <td>7845.880472</td>\n",
       "      <td>4679.244907</td>\n",
       "      <td>15725.327960</td>\n",
       "      <td>-14388.178245</td>\n",
       "      <td>-10962.925296</td>\n",
       "      <td>-2648.606336</td>\n",
       "      <td>-3911.978231</td>\n",
       "      <td>-2685.912762</td>\n",
       "    </tr>\n",
       "    <tr>\n",
       "      <th>3</th>\n",
       "      <td>16</td>\n",
       "      <td>10800.0</td>\n",
       "      <td>75508.900409</td>\n",
       "      <td>51153.930762</td>\n",
       "      <td>18997.935167</td>\n",
       "      <td>-580.684069</td>\n",
       "      <td>20348.853571</td>\n",
       "      <td>-7881.708725</td>\n",
       "      <td>1382.431547</td>\n",
       "      <td>10610.106051</td>\n",
       "      <td>-14564.129743</td>\n",
       "      <td>-10964.431841</td>\n",
       "      <td>12159.868437</td>\n",
       "      <td>-9847.509543</td>\n",
       "      <td>4694.238796</td>\n",
       "    </tr>\n",
       "    <tr>\n",
       "      <th>4</th>\n",
       "      <td>26</td>\n",
       "      <td>14400.0</td>\n",
       "      <td>6677.790604</td>\n",
       "      <td>4103.232571</td>\n",
       "      <td>22990.206662</td>\n",
       "      <td>-5622.886073</td>\n",
       "      <td>20519.287305</td>\n",
       "      <td>-18993.211058</td>\n",
       "      <td>-1962.609146</td>\n",
       "      <td>2242.470991</td>\n",
       "      <td>-14658.446184</td>\n",
       "      <td>-10965.938093</td>\n",
       "      <td>8942.377256</td>\n",
       "      <td>-9484.598860</td>\n",
       "      <td>9567.905232</td>\n",
       "    </tr>\n",
       "    <tr>\n",
       "      <th>...</th>\n",
       "      <td>...</td>\n",
       "      <td>...</td>\n",
       "      <td>...</td>\n",
       "      <td>...</td>\n",
       "      <td>...</td>\n",
       "      <td>...</td>\n",
       "      <td>...</td>\n",
       "      <td>...</td>\n",
       "      <td>...</td>\n",
       "      <td>...</td>\n",
       "      <td>...</td>\n",
       "      <td>...</td>\n",
       "      <td>...</td>\n",
       "      <td>...</td>\n",
       "      <td>...</td>\n",
       "    </tr>\n",
       "    <tr>\n",
       "      <th>38423</th>\n",
       "      <td>12</td>\n",
       "      <td>138322800.0</td>\n",
       "      <td>139472.021274</td>\n",
       "      <td>126070.819835</td>\n",
       "      <td>1814.483697</td>\n",
       "      <td>22293.610882</td>\n",
       "      <td>17986.842466</td>\n",
       "      <td>-7894.120142</td>\n",
       "      <td>17911.513730</td>\n",
       "      <td>-14715.306559</td>\n",
       "      <td>-11009.316956</td>\n",
       "      <td>-10952.371276</td>\n",
       "      <td>-880.926553</td>\n",
       "      <td>-8291.650218</td>\n",
       "      <td>7138.442368</td>\n",
       "    </tr>\n",
       "    <tr>\n",
       "      <th>38424</th>\n",
       "      <td>22</td>\n",
       "      <td>138326400.0</td>\n",
       "      <td>132982.587795</td>\n",
       "      <td>155887.527348</td>\n",
       "      <td>-9923.026115</td>\n",
       "      <td>22731.528266</td>\n",
       "      <td>18375.483316</td>\n",
       "      <td>-18998.340402</td>\n",
       "      <td>17608.619673</td>\n",
       "      <td>-16462.341802</td>\n",
       "      <td>-11704.485904</td>\n",
       "      <td>-10953.879872</td>\n",
       "      <td>-13297.911565</td>\n",
       "      <td>-10428.303447</td>\n",
       "      <td>10147.718298</td>\n",
       "    </tr>\n",
       "    <tr>\n",
       "      <th>38425</th>\n",
       "      <td>20</td>\n",
       "      <td>138330000.0</td>\n",
       "      <td>153954.306696</td>\n",
       "      <td>175082.956342</td>\n",
       "      <td>-19002.209890</td>\n",
       "      <td>22030.300695</td>\n",
       "      <td>18738.365510</td>\n",
       "      <td>-18975.786935</td>\n",
       "      <td>16691.433537</td>\n",
       "      <td>-13163.024377</td>\n",
       "      <td>-12334.048708</td>\n",
       "      <td>-10955.388175</td>\n",
       "      <td>-6001.878926</td>\n",
       "      <td>-5895.040381</td>\n",
       "      <td>7738.628004</td>\n",
       "    </tr>\n",
       "    <tr>\n",
       "      <th>38426</th>\n",
       "      <td>11</td>\n",
       "      <td>138333600.0</td>\n",
       "      <td>190128.279176</td>\n",
       "      <td>182349.240812</td>\n",
       "      <td>-22990.802476</td>\n",
       "      <td>20225.068782</td>\n",
       "      <td>19074.980365</td>\n",
       "      <td>-7839.668648</td>\n",
       "      <td>15191.952160</td>\n",
       "      <td>-5828.724327</td>\n",
       "      <td>-12894.476535</td>\n",
       "      <td>-10956.896185</td>\n",
       "      <td>10191.426388</td>\n",
       "      <td>2408.675482</td>\n",
       "      <td>1197.503358</td>\n",
       "    </tr>\n",
       "    <tr>\n",
       "      <th>38427</th>\n",
       "      <td>9</td>\n",
       "      <td>138337200.0</td>\n",
       "      <td>207629.442494</td>\n",
       "      <td>177191.297974</td>\n",
       "      <td>-20820.281087</td>\n",
       "      <td>17406.298106</td>\n",
       "      <td>19384.856014</td>\n",
       "      <td>7887.914855</td>\n",
       "      <td>13162.486261</td>\n",
       "      <td>3292.308067</td>\n",
       "      <td>-13382.628068</td>\n",
       "      <td>-10958.403902</td>\n",
       "      <td>11276.812891</td>\n",
       "      <td>9171.808649</td>\n",
       "      <td>-5983.027266</td>\n",
       "    </tr>\n",
       "  </tbody>\n",
       "</table>\n",
       "<p>38428 rows × 15 columns</p>\n",
       "</div>"
      ],
      "text/plain": [
       "       signal     time_sec         FT_All           FT_1          FT_2  \\\n",
       "0           1          0.0  192334.339198  159960.560353 -13072.116883   \n",
       "1           1       3600.0  159349.882849  131831.031197  -1822.001937   \n",
       "2           6       7200.0  122928.877454   94719.294653   9916.217658   \n",
       "3          16      10800.0   75508.900409   51153.930762  18997.935167   \n",
       "4          26      14400.0    6677.790604    4103.232571  22990.206662   \n",
       "...       ...          ...            ...            ...           ...   \n",
       "38423      12  138322800.0  139472.021274  126070.819835   1814.483697   \n",
       "38424      22  138326400.0  132982.587795  155887.527348  -9923.026115   \n",
       "38425      20  138330000.0  153954.306696  175082.956342 -19002.209890   \n",
       "38426      11  138333600.0  190128.279176  182349.240812 -22990.802476   \n",
       "38427       9  138337200.0  207629.442494  177191.297974 -20820.281087   \n",
       "\n",
       "               FT_3          FT_4          FT_5          FT_6          FT_7  \\\n",
       "0      13715.245705  19667.558075  18995.776745  10673.835529  11404.119064   \n",
       "1       9336.881269  19922.690259  18978.366368   7812.818722  16020.120818   \n",
       "2       4490.617751  20149.894922   7845.880472   4679.244907  15725.327960   \n",
       "3       -580.684069  20348.853571  -7881.708725   1382.431547  10610.106051   \n",
       "4      -5622.886073  20519.287305 -18993.211058  -1962.609146   2242.470991   \n",
       "...             ...           ...           ...           ...           ...   \n",
       "38423  22293.610882  17986.842466  -7894.120142  17911.513730 -14715.306559   \n",
       "38424  22731.528266  18375.483316 -18998.340402  17608.619673 -16462.341802   \n",
       "38425  22030.300695  18738.365510 -18975.786935  16691.433537 -13163.024377   \n",
       "38426  20225.068782  19074.980365  -7839.668648  15191.952160  -5828.724327   \n",
       "38427  17406.298106  19384.856014   7887.914855  13162.486261   3292.308067   \n",
       "\n",
       "               FT_8          FT_9         FT_10         FT_11         FT_12  \n",
       "0     -13795.767112 -10959.911326  -4354.712166  10068.676389  -9968.925175  \n",
       "1     -14131.577934 -10961.418458 -13530.748527   4525.644383  -8631.923308  \n",
       "2     -14388.178245 -10962.925296  -2648.606336  -3911.978231  -2685.912762  \n",
       "3     -14564.129743 -10964.431841  12159.868437  -9847.509543   4694.238796  \n",
       "4     -14658.446184 -10965.938093   8942.377256  -9484.598860   9567.905232  \n",
       "...             ...           ...           ...           ...           ...  \n",
       "38423 -11009.316956 -10952.371276   -880.926553  -8291.650218   7138.442368  \n",
       "38424 -11704.485904 -10953.879872 -13297.911565 -10428.303447  10147.718298  \n",
       "38425 -12334.048708 -10955.388175  -6001.878926  -5895.040381   7738.628004  \n",
       "38426 -12894.476535 -10956.896185  10191.426388   2408.675482   1197.503358  \n",
       "38427 -13382.628068 -10958.403902  11276.812891   9171.808649  -5983.027266  \n",
       "\n",
       "[38428 rows x 15 columns]"
      ]
     },
     "execution_count": 54,
     "metadata": {},
     "output_type": "execute_result"
    }
   ],
   "source": [
    "for key in fourier_terms_dict.keys():\n",
    "    a = fourier_terms_dict[key]['amplitude']\n",
    "    w = 2 * math.pi * (fourier_terms_dict[key]['freq (1 / hour)'] / 3600)\n",
    "    p = fourier_terms_dict[key]['phase']\n",
    "    data[key] = data['time_sec'].apply(lambda t: a * math.cos(w*t + p))\n",
    "\n",
    "data['FT_All'] = 0\n",
    "for column in list(fourier_terms.index):\n",
    "    data['FT_All'] = data['FT_All'] + data[column]\n",
    "\n",
    "\n",
    "# Sample \n",
    "data[['signal', 'time_sec', 'FT_All']  + list(fourier_terms.index)]"
   ]
  },
  {
   "cell_type": "markdown",
   "id": "129df9ef",
   "metadata": {},
   "source": [
    "These Fourier terms may seem daunting, but basically, they are just sinusoids (i.e. waves) that we identified are important in our Fourier transform. They were important because they peaked in the frequency domain. If we plot FT_1 we see it’s a wave with a one-day period and a specific phase shift, which matches the daily seasonality we see in the data."
   ]
  },
  {
   "cell_type": "code",
   "execution_count": 55,
   "id": "3e117738",
   "metadata": {},
   "outputs": [
    {
     "data": {
      "text/plain": [
       "[<matplotlib.lines.Line2D at 0x12a717e80>]"
      ]
     },
     "execution_count": 55,
     "metadata": {},
     "output_type": "execute_result"
    },
    {
     "data": {
      "image/png": "[encoded data removed]",
      "text/plain": [
       "<Figure size 432x288 with 1 Axes>"
      ]
     },
     "metadata": {
      "needs_background": "light"
     },
     "output_type": "display_data"
    }
   ],
   "source": [
    "# Check the first Fourier term, which should have a period = 1 day\n",
    "plt.plot(data['time'][:24*5], data['FT_1'][:24*5])"
   ]
  },
  {
   "cell_type": "markdown",
   "id": "e99c1dc1",
   "metadata": {},
   "source": [
    "# Run a Regression Using our New Variable:\n",
    "Here’s how the regression results look for the first 5 days. It definitely looks promising."
   ]
  },
  {
   "cell_type": "code",
   "execution_count": 65,
   "id": "5e1a13a5",
   "metadata": {},
   "outputs": [
    {
     "name": "stdout",
     "output_type": "stream",
     "text": [
      "\n"
     ]
    },
    {
     "data": {
      "image/png": "[encoded data removed]",
      "text/plain": [
       "<Figure size 432x288 with 1 Axes>"
      ]
     },
     "metadata": {
      "needs_background": "light"
     },
     "output_type": "display_data"
    }
   ],
   "source": [
    "# time_sec is the hourly timestamp converted to seconds\n",
    "# list(fourier_terms.index) are the names of our Fourier terms\n",
    "# X = pd.DataFrame(data[['time_sec'] + list(fourier_terms.index)]) \n",
    "X = pd.DataFrame(data[['time_sec', 'FT_All']]) \n",
    "# signal is how many calls were made in that hour\n",
    "y = pd.DataFrame(data['signal']) \n",
    "\n",
    "model = LinearRegression()\n",
    "model.fit(X, y)\n",
    "\n",
    "y_pred = model.predict(X)\n",
    "\n",
    "\n",
    "N = 24 * 5\n",
    "\n",
    "plt.plot(X['time_sec'][:N], y[:N].values, linewidth=1, label='Original Signal')\n",
    "plt.plot(X['time_sec'][:N], y_pred[:N], linewidth=1, label='Predicted Signal')\n",
    "plt.legend(loc='upper right')\n",
    "plt.suptitle('First 5 Days')\n",
    "plt.grid()\n",
    "plt.xticks(rotation=90)\n",
    "\n",
    "print()"
   ]
  },
  {
   "cell_type": "markdown",
   "id": "99214bb7",
   "metadata": {},
   "source": [
    "## Check R-Squared:"
   ]
  },
  {
   "cell_type": "code",
   "execution_count": 66,
   "id": "006bff57",
   "metadata": {},
   "outputs": [
    {
     "data": {
      "text/plain": [
       "0.45064174869706564"
      ]
     },
     "execution_count": 66,
     "metadata": {},
     "output_type": "execute_result"
    }
   ],
   "source": [
    "model.score(X,y)"
   ]
  },
  {
   "cell_type": "markdown",
   "id": "02e175c7",
   "metadata": {},
   "source": [
    "That’s an R² improvement from 0.000001 to 0.41 from just adding one new variable. Not bad at all!"
   ]
  },
  {
   "cell_type": "markdown",
   "id": "3d3b14aa",
   "metadata": {},
   "source": [
    "# Why are Fourier transforms helpful in regressions?\n",
    "Fourier transforms aren’t the only way to analyze seasonality in a regression. We would definitely consider exploring other simpler options, like adding a dummy variable for an hour of the day or day of week, especially if we already have a strong intuition for what to expect.\n",
    "\n",
    "For example, say we know that 911 call volumes spike between 6 and 9 pm, then we can just create a new variable that’s 1 when the time is between 6 and 9 pm, and 0 otherwise. The coefficient will tell us pretty clearly how much more call volume to expect during evening hours.\n",
    "\n",
    "The challenge is knowing how to even start. Is it 6 to 9 pm, or 7 to 10 pm? Or do weekends impact call volume more than evenings do? The Fourier transform is a great way to answer those questions. It gives ua a quantifiable way to measure seasonality in our data. Then if we want to leverage it in your regression, we have an easy option to do so by incorporating the sinusoids that the Fourier transform outputs. Or we can take the insights from the Fourier analysis, and test simpler variables in our regression."
   ]
  },
  {
   "cell_type": "code",
   "execution_count": null,
   "id": "b2936e8e",
   "metadata": {},
   "outputs": [],
   "source": []
  }
 ],
 "metadata": {
  "kernelspec": {
   "display_name": "Python 3 (ipykernel)",
   "language": "python",
   "name": "python3"
  },
  "language_info": {
   "codemirror_mode": {
    "name": "ipython",
    "version": 3
   },
   "file_extension": ".py",
   "mimetype": "text/x-python",
   "name": "python",
   "nbconvert_exporter": "python",
   "pygments_lexer": "ipython3",
   "version": "3.9.10"
  }
 },
 "nbformat": 4,
 "nbformat_minor": 5
}
